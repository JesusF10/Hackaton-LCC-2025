{
 "cells": [
  {
   "cell_type": "markdown",
   "id": "492ff8b2",
   "metadata": {},
   "source": [
    "# Importacion de datos"
   ]
  },
  {
   "cell_type": "markdown",
   "id": "9c896df2",
   "metadata": {},
   "source": [
    "## Importar librerias"
   ]
  },
  {
   "cell_type": "code",
   "execution_count": 50,
   "id": "91da0a15",
   "metadata": {},
   "outputs": [],
   "source": [
    "import pandas as pd\n",
    "\n",
    "from scripts.tools import *"
   ]
  },
  {
   "cell_type": "markdown",
   "id": "1c1dbb74",
   "metadata": {},
   "source": [
    "## Conversion de datos"
   ]
  },
  {
   "cell_type": "markdown",
   "id": "32d15efa",
   "metadata": {},
   "source": [
    "#### Datos de marginacion municipal 2020"
   ]
  },
  {
   "cell_type": "code",
   "execution_count": 46,
   "id": "e91f0d7e",
   "metadata": {},
   "outputs": [
    {
     "data": {
      "text/html": [
       "<div>\n",
       "<style scoped>\n",
       "    .dataframe tbody tr th:only-of-type {\n",
       "        vertical-align: middle;\n",
       "    }\n",
       "\n",
       "    .dataframe tbody tr th {\n",
       "        vertical-align: top;\n",
       "    }\n",
       "\n",
       "    .dataframe thead th {\n",
       "        text-align: right;\n",
       "    }\n",
       "</style>\n",
       "<table border=\"1\" class=\"dataframe\">\n",
       "  <thead>\n",
       "    <tr style=\"text-align: right;\">\n",
       "      <th></th>\n",
       "      <th>CVE_ENT</th>\n",
       "      <th>NOM_ENT</th>\n",
       "      <th>CVE_MUN</th>\n",
       "      <th>NOM_MUN</th>\n",
       "      <th>POB_TOT</th>\n",
       "      <th>ANALF</th>\n",
       "      <th>SBASC</th>\n",
       "      <th>OVSDE</th>\n",
       "      <th>OVSEE</th>\n",
       "      <th>OVSAE</th>\n",
       "      <th>OVPT</th>\n",
       "      <th>VHAC</th>\n",
       "      <th>PL.5000</th>\n",
       "      <th>PO2SM</th>\n",
       "      <th>IM_2020</th>\n",
       "      <th>GM_2020</th>\n",
       "      <th>IMN_2020</th>\n",
       "    </tr>\n",
       "  </thead>\n",
       "  <tbody>\n",
       "    <tr>\n",
       "      <th>0</th>\n",
       "      <td>1</td>\n",
       "      <td>Aguascalientes</td>\n",
       "      <td>1001</td>\n",
       "      <td>Aguascalientes</td>\n",
       "      <td>948990</td>\n",
       "      <td>1.644738</td>\n",
       "      <td>20.367220</td>\n",
       "      <td>0.104799</td>\n",
       "      <td>0.113169</td>\n",
       "      <td>0.378610</td>\n",
       "      <td>0.591434</td>\n",
       "      <td>10.339530</td>\n",
       "      <td>7.523683</td>\n",
       "      <td>54.226594</td>\n",
       "      <td>60.318795</td>\n",
       "      <td>Muy bajo</td>\n",
       "      <td>0.944508</td>\n",
       "    </tr>\n",
       "    <tr>\n",
       "      <th>1</th>\n",
       "      <td>1</td>\n",
       "      <td>Aguascalientes</td>\n",
       "      <td>1002</td>\n",
       "      <td>Asientos</td>\n",
       "      <td>51536</td>\n",
       "      <td>3.526405</td>\n",
       "      <td>33.906364</td>\n",
       "      <td>2.650373</td>\n",
       "      <td>0.486448</td>\n",
       "      <td>0.858160</td>\n",
       "      <td>1.352430</td>\n",
       "      <td>22.942305</td>\n",
       "      <td>78.221049</td>\n",
       "      <td>78.565471</td>\n",
       "      <td>56.546071</td>\n",
       "      <td>Muy bajo</td>\n",
       "      <td>0.885433</td>\n",
       "    </tr>\n",
       "    <tr>\n",
       "      <th>2</th>\n",
       "      <td>1</td>\n",
       "      <td>Aguascalientes</td>\n",
       "      <td>1003</td>\n",
       "      <td>Calvillo</td>\n",
       "      <td>58250</td>\n",
       "      <td>4.491509</td>\n",
       "      <td>42.482450</td>\n",
       "      <td>0.365177</td>\n",
       "      <td>0.516760</td>\n",
       "      <td>0.800978</td>\n",
       "      <td>1.040411</td>\n",
       "      <td>19.219858</td>\n",
       "      <td>51.301288</td>\n",
       "      <td>79.259777</td>\n",
       "      <td>57.058251</td>\n",
       "      <td>Muy bajo</td>\n",
       "      <td>0.893453</td>\n",
       "    </tr>\n",
       "    <tr>\n",
       "      <th>3</th>\n",
       "      <td>1</td>\n",
       "      <td>Aguascalientes</td>\n",
       "      <td>1004</td>\n",
       "      <td>Cosío</td>\n",
       "      <td>17000</td>\n",
       "      <td>3.144867</td>\n",
       "      <td>27.696745</td>\n",
       "      <td>0.712855</td>\n",
       "      <td>0.577354</td>\n",
       "      <td>0.659833</td>\n",
       "      <td>1.030989</td>\n",
       "      <td>22.716866</td>\n",
       "      <td>65.470588</td>\n",
       "      <td>81.726369</td>\n",
       "      <td>57.114030</td>\n",
       "      <td>Muy bajo</td>\n",
       "      <td>0.894326</td>\n",
       "    </tr>\n",
       "    <tr>\n",
       "      <th>4</th>\n",
       "      <td>1</td>\n",
       "      <td>Aguascalientes</td>\n",
       "      <td>1005</td>\n",
       "      <td>Jesús María</td>\n",
       "      <td>129929</td>\n",
       "      <td>2.380588</td>\n",
       "      <td>26.692477</td>\n",
       "      <td>0.277034</td>\n",
       "      <td>0.354957</td>\n",
       "      <td>0.860426</td>\n",
       "      <td>1.312652</td>\n",
       "      <td>16.404575</td>\n",
       "      <td>37.164143</td>\n",
       "      <td>56.748753</td>\n",
       "      <td>59.011762</td>\n",
       "      <td>Muy bajo</td>\n",
       "      <td>0.924042</td>\n",
       "    </tr>\n",
       "  </tbody>\n",
       "</table>\n",
       "</div>"
      ],
      "text/plain": [
       "   CVE_ENT         NOM_ENT  CVE_MUN         NOM_MUN  POB_TOT     ANALF  \\\n",
       "0        1  Aguascalientes     1001  Aguascalientes   948990  1.644738   \n",
       "1        1  Aguascalientes     1002        Asientos    51536  3.526405   \n",
       "2        1  Aguascalientes     1003        Calvillo    58250  4.491509   \n",
       "3        1  Aguascalientes     1004           Cosío    17000  3.144867   \n",
       "4        1  Aguascalientes     1005     Jesús María   129929  2.380588   \n",
       "\n",
       "       SBASC     OVSDE     OVSEE     OVSAE      OVPT       VHAC    PL.5000  \\\n",
       "0  20.367220  0.104799  0.113169  0.378610  0.591434  10.339530   7.523683   \n",
       "1  33.906364  2.650373  0.486448  0.858160  1.352430  22.942305  78.221049   \n",
       "2  42.482450  0.365177  0.516760  0.800978  1.040411  19.219858  51.301288   \n",
       "3  27.696745  0.712855  0.577354  0.659833  1.030989  22.716866  65.470588   \n",
       "4  26.692477  0.277034  0.354957  0.860426  1.312652  16.404575  37.164143   \n",
       "\n",
       "       PO2SM    IM_2020   GM_2020  IMN_2020  \n",
       "0  54.226594  60.318795  Muy bajo  0.944508  \n",
       "1  78.565471  56.546071  Muy bajo  0.885433  \n",
       "2  79.259777  57.058251  Muy bajo  0.893453  \n",
       "3  81.726369  57.114030  Muy bajo  0.894326  \n",
       "4  56.748753  59.011762  Muy bajo  0.924042  "
      ]
     },
     "execution_count": 46,
     "metadata": {},
     "output_type": "execute_result"
    }
   ],
   "source": [
    "df_marginacion_municipal = pd.read_csv('./data/raw/marginacion_municipal.gob.csv')\n",
    "\n",
    "df_marginacion_municipal.head()"
   ]
  },
  {
   "cell_type": "code",
   "execution_count": 48,
   "id": "f816356c",
   "metadata": {},
   "outputs": [],
   "source": [
    "marginacion_sonora = df_marginacion_municipal[df_marginacion_municipal.NOM_ENT == 'Sonora']\n",
    "\n",
    "marginacion_sonora.to_csv('./data/marginacion_sonora_2020.csv', index=False)"
   ]
  },
  {
   "cell_type": "markdown",
   "id": "f4ffb1a5",
   "metadata": {},
   "source": [
    "#### Datos de pobreza nacional 2020"
   ]
  },
  {
   "cell_type": "code",
   "execution_count": 49,
   "id": "ef8fa1f1",
   "metadata": {},
   "outputs": [],
   "source": [
    "df_pobreza_nacional = pd.read_csv('./data/raw/pobreza_2020.gob.csv')\n",
    "\n",
    "pobreza_sonora = df_pobreza_nacional[df_pobreza_nacional['entidad_federativa'] == \"Sonora\"]\n",
    "\n",
    "pobreza_sonora.to_csv('./data/pobreza_sonora_2020.csv', index=False)"
   ]
  },
  {
   "cell_type": "markdown",
   "id": "2632e1ef",
   "metadata": {},
   "source": [
    "#### Datos de marginacion por localidad 2020 (datos.sonora.gob.mx)\n"
   ]
  },
  {
   "cell_type": "code",
   "execution_count": 52,
   "id": "61229522",
   "metadata": {},
   "outputs": [],
   "source": [
    "convert_xlsx_to_csv('./data/raw/indice-de-marginacion-localidades-2020.xlsx', './data/indice_marginacion_localidad_sonora_2020.csv')"
   ]
  },
  {
   "cell_type": "markdown",
   "id": "d05a1b57",
   "metadata": {},
   "source": [
    "#### Nacimientos 2022 Sonora"
   ]
  },
  {
   "cell_type": "code",
   "execution_count": 53,
   "id": "b8cf071f",
   "metadata": {},
   "outputs": [],
   "source": [
    "convert_xlsx_to_csv('./data/raw/202209281437030-file.xlsx', './data/nacimientos_sonora_2022.csv')"
   ]
  },
  {
   "cell_type": "markdown",
   "id": "85249765",
   "metadata": {},
   "source": []
  },
  {
   "cell_type": "code",
   "execution_count": null,
   "id": "5fed8aba",
   "metadata": {},
   "outputs": [],
   "source": []
  }
 ],
 "metadata": {
  "kernelspec": {
   "display_name": "Hackaton-LCC-2025",
   "language": "python",
   "name": "python3"
  },
  "language_info": {
   "codemirror_mode": {
    "name": "ipython",
    "version": 3
   },
   "file_extension": ".py",
   "mimetype": "text/x-python",
   "name": "python",
   "nbconvert_exporter": "python",
   "pygments_lexer": "ipython3",
   "version": "3.13.2"
  }
 },
 "nbformat": 4,
 "nbformat_minor": 5
}
